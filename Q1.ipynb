{
  "nbformat": 4,
  "nbformat_minor": 0,
  "metadata": {
    "colab": {
      "provenance": []
    },
    "kernelspec": {
      "name": "python3",
      "display_name": "Python 3"
    },
    "language_info": {
      "name": "python"
    }
  },
  "cells": [
    {
      "cell_type": "markdown",
      "source": [
        "#BISECTION"
      ],
      "metadata": {
        "id": "0b2_HFHCngDz"
      }
    },
    {
      "cell_type": "code",
      "execution_count": 9,
      "metadata": {
        "id": "FK6E4d8Rj2Zm",
        "colab": {
          "base_uri": "https://localhost:8080/"
        },
        "outputId": "ea4f7357-fb42-46f4-ec83-7ca59294ea5a"
      },
      "outputs": [
        {
          "output_type": "stream",
          "name": "stdout",
          "text": [
            "iteration 0  a:  1  b:  5.5  c:  5.5\n",
            "iteration 1  a:  1  b:  3.25  c:  3.25\n",
            "iteration 2  a:  2.125  b:  3.25  c:  2.125\n",
            "iteration 3  a:  2.6875  b:  3.25  c:  2.6875\n",
            "iteration 4  a:  2.96875  b:  3.25  c:  2.96875\n",
            "iteration 5  a:  3.109375  b:  3.25  c:  3.109375\n",
            "iteration 6  a:  3.109375  b:  3.1796875  c:  3.1796875\n",
            "iteration 7  a:  3.14453125  b:  3.1796875  c:  3.14453125\n",
            "iteration 8  a:  3.14453125  b:  3.162109375  c:  3.162109375\n",
            "iteration 9  a:  3.14453125  b:  3.1533203125  c:  3.1533203125\n",
            "iteration 10  a:  3.14892578125  b:  3.1533203125  c:  3.14892578125\n",
            "iteration 11  a:  3.151123046875  b:  3.1533203125  c:  3.151123046875\n",
            "iteration 12  a:  3.151123046875  b:  3.1522216796875  c:  3.1522216796875\n",
            "iteration 13  a:  3.151123046875  b:  3.15167236328125  c:  3.15167236328125\n",
            "iteration 14  a:  3.151397705078125  b:  3.15167236328125  c:  3.151397705078125\n",
            "iteration 15  a:  3.1515350341796875  b:  3.15167236328125  c:  3.1515350341796875\n",
            "The root is:  3.1516036987304688\n"
          ]
        }
      ],
      "source": [
        "def bisection(func,interval,coiff,tol=1e-2,max_iter=100):\n",
        "\n",
        "  a=interval[0]\n",
        "  b=interval[1]\n",
        "  for i in range(max_iter):\n",
        "    c=(a+b)/2\n",
        "    if abs(func(a,coiff))<tol:\n",
        "      return c\n",
        "    elif func(a,coiff)*func(c,coiff)<0:\n",
        "      b=c\n",
        "    else:\n",
        "      a=c\n",
        "    print(\"iteration\",i,\" a: \",a,\" b: \",b,\" c: \",c)\n",
        "def func(x,coiff):\n",
        "  return coiff[0]*x**3 + coiff[1]*x**2 + coiff[2]*x**1 + coiff[3]\n",
        "\n",
        "def main():\n",
        "  coefficients = [2,0,-4,-50]\n",
        "\n",
        "  interval = [1,10]\n",
        "\n",
        "  res = bisection(func,interval,coefficients)\n",
        "  print(\"The root is: \",res)\n",
        "\n",
        "main()\n"
      ]
    },
    {
      "cell_type": "markdown",
      "source": [
        "#NEWTON RAPHSON"
      ],
      "metadata": {
        "id": "Y4ZnUYGHnuBJ"
      }
    },
    {
      "cell_type": "code",
      "source": [
        "from re import X\n",
        "import sympy\n",
        "\n",
        "def raphson(func,der_func,coiff,Xo,tol=1e-5,max_iter=100):\n",
        "  for i in range(max_iter):\n",
        "    if abs(func(Xo,coiff))>tol:\n",
        "      X1=Xo-func(Xo,coiff)/der_func(Xo,coiff)\n",
        "      Xo=X1\n",
        "      print(\"Iteration: \",i,\" x:\",Xo)\n",
        "    else:\n",
        "      return Xo\n",
        "  print(\"Limit Reached\")\n",
        "\n",
        "\n",
        "def func(x,coiff):\n",
        "  return coiff[0]*x**3 + coiff[1]*x**2 + coiff[2]*x**1 + coiff[3]\n",
        "\n",
        "def der_func(x,coiff):\n",
        "  return 3*coiff[0]*x**2 + 2*coiff[1]*x + coiff[2]*x\n",
        "\n",
        "def main():\n",
        "  coefficients = [2,0,-4,-50]\n",
        "  X0=4\n",
        "  res=raphson(func,der_func,coefficients,X0)\n",
        "  print(\"The root is: \",res)\n",
        "\n",
        "main()\n"
      ],
      "metadata": {
        "colab": {
          "base_uri": "https://localhost:8080/"
        },
        "id": "kh2wN1ZMnzDr",
        "outputId": "2ca12843-1c49-480d-f5c4-03122de6729d"
      },
      "execution_count": 19,
      "outputs": [
        {
          "output_type": "stream",
          "name": "stdout",
          "text": [
            "Iteration:  0  x: 3.225\n",
            "Iteration:  1  x: 3.1404805191525895\n",
            "Iteration:  2  x: 3.1536784039170893\n",
            "Iteration:  3  x: 3.1512073574800517\n",
            "Iteration:  4  x: 3.1516580542262855\n",
            "Iteration:  5  x: 3.1515754425657594\n",
            "Iteration:  6  x: 3.151590571430975\n",
            "Iteration:  7  x: 3.151587800388244\n",
            "Iteration:  8  x: 3.1515883079243365\n",
            "The root is:  3.1515883079243365\n"
          ]
        }
      ]
    },
    {
      "cell_type": "markdown",
      "source": [
        "#Lagrange Interpolation\n"
      ],
      "metadata": {
        "id": "QAn18SqH7MXB"
      }
    },
    {
      "cell_type": "code",
      "source": [
        "def Lagrange(X,Y,K):\n",
        "  x_k=0\n",
        "  for i in range (len(X)):\n",
        "    Yi=Y[i]\n",
        "    for j in range (len(X)):\n",
        "      if i!=j:\n",
        "        Yi*=(K-X[j])/(X[i]-X[j])\n",
        "    x_k+=Yi\n",
        "  return x_k\n",
        "\n",
        "\n",
        "def main():\n",
        "  X=[1,2,3,4,5]\n",
        "  Y=[2,3,4,5,6]\n",
        "  K=0\n",
        "  print(Lagrange(X,Y,K))\n",
        "\n",
        "main()"
      ],
      "metadata": {
        "colab": {
          "base_uri": "https://localhost:8080/"
        },
        "id": "6hXUbhLF7L__",
        "outputId": "dbeee87b-d8f1-413a-bfa0-116830873e3f"
      },
      "execution_count": 23,
      "outputs": [
        {
          "output_type": "stream",
          "name": "stdout",
          "text": [
            "1.0\n"
          ]
        }
      ]
    },
    {
      "cell_type": "markdown",
      "source": [
        "#SIMPSONS"
      ],
      "metadata": {
        "id": "2EC7IbFBb8JQ"
      }
    },
    {
      "cell_type": "code",
      "source": [
        "'''\n",
        "Program to find integral using simpsons 3/8 rule\n",
        "\n",
        "integral (f(x)) a to b = 3*h / 8 (f0 + fn + 3*(f1 + f2 + f4 + f5 + ... ) + 2*(f3 + f6 + ...))\n",
        "\n",
        "h = b-a / step_size\n",
        "\n",
        "fi = f(h*i)\n",
        "'''\n",
        "\n",
        "\n",
        "\n",
        "def simpson_3_by_8(f,a,b,step):\n",
        "    h = (b - a) / step\n",
        "    # Array to store x_i and y_i values\n",
        "    x = [i*h + a for i in range(0,step)]\n",
        "    y = [f(j) for j in x]\n",
        "\n",
        "    #print(x)\n",
        "    #print(y)\n",
        "    # Applying simpsons formuls\n",
        "    I = y[0] + y[-1]\n",
        "\n",
        "    # iterating through 1 to n-1\n",
        "    for i,f_i in enumerate(y[1:-1]):\n",
        "        if i%3 == 0:\n",
        "            I += f_i * 2\n",
        "        else:\n",
        "            I += f_i * 3\n",
        "\n",
        "    I = I*((3/8)*h)\n",
        "\n",
        "    return I\n",
        "\n",
        "def simpson_1_by_3(f,a,b,step):\n",
        "    h = (b - a) / step\n",
        "    # Array to store x_i and y_i values\n",
        "    x = [i*h + a for i in range(0,step)]\n",
        "    y = [f(j) for j in x]\n",
        "\n",
        "    #print(x)\n",
        "    #print(y)\n",
        "    # Applying simpsons formula\n",
        "    I = y[0] + y[-1]\n",
        "\n",
        "    # iterating through 1 to n-1\n",
        "    for i,f_i in enumerate(y[1:-1]):\n",
        "        if i%2 == 0:\n",
        "            I += f_i * 2\n",
        "        else:\n",
        "            I += f_i * 4\n",
        "\n",
        "    I = I*((1/3)*h)\n",
        "\n",
        "    return I\n",
        "\n",
        "def main():\n",
        "    f = lambda x: 0.2 + 5*x - 20*(x**2) + 67*(x**3) - 90*(x**4) + 40*(x**5)\n",
        "\n",
        "    #f = lambda x: 2 / (1 + x**3)\n",
        "    a = 0\n",
        "    b = 1\n",
        "\n",
        "    step = 2\n",
        "\n",
        "    for step in range(100,102):\n",
        "\n",
        "        print(\"Step size\", step)\n",
        "        I1 = simpson_3_by_8(f,a,b,step)\n",
        "        print(\"Simpson 3/8\", I1)\n",
        "\n",
        "        # I2 = simpson_1_by_3(f,a,b,step)\n",
        "        # print(\"Simpson 1/3\", I2)\n",
        "\n",
        "\n",
        "main()"
      ],
      "metadata": {
        "id": "nayV9Ivpb_gc"
      },
      "execution_count": null,
      "outputs": []
    },
    {
      "cell_type": "markdown",
      "source": [
        "#Trapezoid"
      ],
      "metadata": {
        "id": "YTMOfDXNcLIP"
      }
    },
    {
      "cell_type": "code",
      "source": [
        "'''\n",
        "Finding an integral using trapezoidal rule\n",
        "\n",
        "integral (f(x)) a to b = h/2 (f0 + fn + 2*(f1 + f2 + f3 + ... + fn-1))\n",
        "\n",
        "h = b-a / step_size\n",
        "\n",
        "fi = f(h*i)\n",
        "\n",
        "'''\n",
        "\n",
        "def trapezoidal(f,a,b,step):\n",
        "    h = (b - a) / step\n",
        "    # Array to store x_i and y_i values\n",
        "    x = [i*h + a for i in range(0,step)]\n",
        "    y = [f(j) for j in x]\n",
        "\n",
        "    # Applying trapezoid formula\n",
        "    I = y[0] + y[-1]\n",
        "\n",
        "    # iterating through 1 to n-1\n",
        "    for i,f_i in enumerate(y[1:-1]):\n",
        "        I += 2*f_i\n",
        "\n",
        "    I = I*(h/2)\n",
        "\n",
        "    return I\n",
        "\n",
        "def main():\n",
        "    f = lambda x: 0.2 + 5*x - 20*(x**2) + 65*(x**3) - 90*(x**4) + 50*(x**5)\n",
        "\n",
        "    #f = lambda x: 2 / (1 + x**3)\n",
        "    a = 0\n",
        "    b = 0.8\n",
        "\n",
        "    step = 2\n",
        "\n",
        "    for step in range(1000,1010):\n",
        "\n",
        "        I = trapezoidal(f,a,b,step)\n",
        "        print(\"steps {0}  Integral : {1}\".format(step,I))\n",
        "\n",
        "main()"
      ],
      "metadata": {
        "id": "FLzP2U2HcO6x"
      },
      "execution_count": null,
      "outputs": []
    },
    {
      "cell_type": "markdown",
      "source": [
        "#Newton Forward"
      ],
      "metadata": {
        "id": "2Bw3U049cSSp"
      }
    },
    {
      "cell_type": "code",
      "source": [
        "'''\n",
        "WRITE A PROGRAM TO ESTIMATE THE VALUE OF A FUNCTION FOR ANY INTERMEDIATE VALUE\n",
        "OF THE INDEPENDENT VARIABLE USING NEWTON FORWARD INTERPOLATION METHOD\n",
        "\n",
        "1. Table given\n",
        "    x    3   5   7   9\n",
        "    f(x) 180 150 120 90\n",
        "\n",
        "    finding f(k) by forward interpolation\n",
        "\n",
        "    k = 4\n",
        "\n",
        "    h = x[0] - x[1] = 3 - 5 = -2\n",
        "\n",
        "2. Formula\n",
        "    f(k) = f(x0) + (k-x0)/h * delta_f(x0) + (k-x0)(k-x1)/h^2 * delta^2_f(x0) + ... + (k-x0)(k-x1)...(k-xn-1)/h^n * delta^n_f(x0)\n",
        "'''\n",
        "import math\n",
        "\n",
        "# calculating the forward difference table\n",
        "# forward difference\n",
        "# del_fx = f_x(i+1) - f_x(i)\n",
        "def forward_difference_table(x,f_x):\n",
        "    fd_table = []\n",
        "    fd_table.append(f_x)\n",
        "    n = len(x)\n",
        "    for i in range(n):\n",
        "        fd_table.append([])\n",
        "        for j in range(n-i-1):\n",
        "            delta = fd_table[i][j+1] - fd_table[i][j]\n",
        "            fd_table[i+1].append(delta)\n",
        "\n",
        "    return fd_table\n",
        "\n",
        "def find_previous_x(x,k):\n",
        "    for i,x_i in enumerate(x):\n",
        "        if k <= x[i+1] and k > x[i]:\n",
        "            return x_i , i\n",
        "    return -1,-1\n",
        "\n",
        "\n",
        "def newtons_forward_interpolation(x,f_x,k):\n",
        "    # calculating forwarddifference table\n",
        "    fd_table = forward_difference_table(x,f_x)\n",
        "\n",
        "    # interval h\n",
        "    h = x[0] - x[1]\n",
        "\n",
        "    # previous x value before k\n",
        "    x_p, i_x_p= find_previous_x(x,k)\n",
        "\n",
        "    # finding u\n",
        "    u = ( x_p - k ) / h\n",
        "\n",
        "    # implementation of formula f(k)\n",
        "    f_k = fd_table[0][i_x_p]\n",
        "    for i in range(1,len(x)-i_x_p):\n",
        "        U = 1\n",
        "        for j in range(i):\n",
        "            U = U * (u - j)\n",
        "        U = U/math.factorial(i)\n",
        "        U = U*fd_table[i][i_x_p]\n",
        "        #print(\"{0} term : {1}\".format(i,U))\n",
        "        f_k+=U\n",
        "    return f_k\n",
        "\n",
        "\n",
        "def main():\n",
        "    x = [45, 50, 55, 60, 65]\n",
        "    f_x = [114.84, 96.16, 83.22, 74.48, 68.48]\n",
        "    for k in range(46,64):\n",
        "        f_k = newtons_forward_interpolation(x,f_x,k)\n",
        "        print(\"f({0}) = {1}\".format(k,f_k))\n",
        "\n",
        "\n",
        "main()\n",
        "\n",
        ""
      ],
      "metadata": {
        "id": "thp6vnq9cYnC"
      },
      "execution_count": null,
      "outputs": []
    },
    {
      "cell_type": "markdown",
      "source": [
        "#Guass Siedel"
      ],
      "metadata": {
        "id": "WD_ThnsxcfOa"
      }
    },
    {
      "cell_type": "code",
      "source": [
        "# Program to perform gauss siedel\n",
        "\n",
        "import numpy as np\n",
        "\n",
        "def gauss_siedel(A,b):\n",
        "    n = len(A)\n",
        "    x = np.zeros(n)\n",
        "    x_new = np.zeros(n)\n",
        "    for iter in range(0,5):\n",
        "        for i in range(0,n):\n",
        "            sum = b[i]\n",
        "            for j in range(0,n):\n",
        "                if i != j:\n",
        "                    sum = sum - A[i,j] * x[j]\n",
        "            x_new[i] = sum / A[i,i]\n",
        "            x[i] = x_new[i]\n",
        "        for i in x:\n",
        "            print(\"{:.4f}\".format(i),end=\" \")\n",
        "        print()\n",
        "    return x\n",
        "def main():\n",
        "    A = np.array([[1,4,5],[1,3,2],[3,4,1]])\n",
        "    b = np.array([1,2,1])\n",
        "    x = gauss_siedel(A,b)\n",
        "    print(\"x\\n\",x)\n",
        "\n",
        "main()"
      ],
      "metadata": {
        "id": "CeGesFSkclnM"
      },
      "execution_count": null,
      "outputs": []
    },
    {
      "cell_type": "markdown",
      "source": [
        "#Gauss Jordan"
      ],
      "metadata": {
        "id": "Y7C8pbGVcqQh"
      }
    },
    {
      "cell_type": "code",
      "source": [
        "# Program to perform gauss-jordan elimination\n",
        "\n",
        "import numpy as np\n",
        "\n",
        "def gauss_elimination(A,b):\n",
        "    n = len(A)\n",
        "    for i in range(0,n):\n",
        "        for j in range(i+1,n):\n",
        "            try:\n",
        "                factor = A[i,i] / A[j,i]\n",
        "            except ZeroDivisionError:\n",
        "                print(\"Division by zero\")\n",
        "                break\n",
        "            for k in range(0,n):\n",
        "                A[j,k] = A[j,k] - A[i,k] / factor\n",
        "            b[j] = b[j] - b[i] / factor\n",
        "    return A,b\n",
        "\n",
        "def gauss_jordan_elimination(A,b):\n",
        "    A,b = gauss_elimination(A,b)\n",
        "    n = len(A)\n",
        "    for i in range(0,n,-1):\n",
        "        for j in range(i-1,n,-1):\n",
        "            try:\n",
        "                factor = A[i,i] / A[j,i]\n",
        "            except ZeroDivisionError:\n",
        "                print(\"Division by zero\")\n",
        "                break\n",
        "        for k in range(0,n,-1):\n",
        "            A[j,k] = A[j,k] - A[i,k] / factor\n",
        "        b[j] = b[j] - b[i] / factor\n",
        "    return b\n",
        "\n",
        "\n",
        "def main():\n",
        "    A = np.array([[1,1,1],[2,1,-1],[1,-1,2]])\n",
        "    b = np.array([-2,1,1])\n",
        "    print(\"A = \\n\",A)\n",
        "    print()\n",
        "    print(\"b = \",b)\n",
        "    x = gauss_jordan_elimination(A,b)\n",
        "    print(\"\\nfinal solution\")\n",
        "\n",
        "    for i in x:\n",
        "        print(\"{:.4f}\".format(i),end=\" \")\n",
        "\n",
        "main()"
      ],
      "metadata": {
        "id": "Z2RkMZObcthy"
      },
      "execution_count": null,
      "outputs": []
    },
    {
      "cell_type": "markdown",
      "source": [
        "#GUAUSS JORDAN"
      ],
      "metadata": {
        "id": "GViIWqZUc9Xk"
      }
    },
    {
      "cell_type": "code",
      "source": [
        "# Program to perform gauss-jordan elimination\n",
        "\n",
        "import numpy as np\n",
        "\n",
        "def gauss_elimination(A,b):\n",
        "    n = len(A)\n",
        "    for i in range(0,n):\n",
        "        for j in range(i+1,n):\n",
        "            try:\n",
        "                factor = A[i,i] / A[j,i]\n",
        "            except ZeroDivisionError:\n",
        "                print(\"Division by zero\")\n",
        "                break\n",
        "            for k in range(0,n):\n",
        "                A[j,k] = A[j,k] - A[i,k] / factor\n",
        "            b[j] = b[j] - b[i] / factor\n",
        "    return A,b\n",
        "\n",
        "def gauss_jordan_elimination(A,b):\n",
        "    A,b = gauss_elimination(A,b)\n",
        "    n = len(A)\n",
        "    for i in range(0,n,-1):\n",
        "        for j in range(i-1,n,-1):\n",
        "            try:\n",
        "                factor = A[i,i] / A[j,i]\n",
        "            except ZeroDivisionError:\n",
        "                print(\"Division by zero\")\n",
        "                break\n",
        "        for k in range(0,n,-1):\n",
        "            A[j,k] = A[j,k] - A[i,k] / factor\n",
        "        b[j] = b[j] - b[i] / factor\n",
        "    return b\n",
        "\n",
        "\n",
        "def main():\n",
        "    A = np.array([[1,1,1],[2,1,-1],[1,-1,2]])\n",
        "    b = np.array([-2,1,1])\n",
        "    print(\"A = \\n\",A)\n",
        "    print()\n",
        "    print(\"b = \",b)\n",
        "    x = gauss_jordan_elimination(A,b)\n",
        "    print(\"\\nfinal solution\")\n",
        "\n",
        "    for i in x:\n",
        "        print(\"{:.4f}\".format(i),end=\" \")\n",
        "\n",
        "main()"
      ],
      "metadata": {
        "id": "blzBJCBodIMB"
      },
      "execution_count": null,
      "outputs": []
    }
  ]
}